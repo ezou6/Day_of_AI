{
  "nbformat": 4,
  "nbformat_minor": 0,
  "metadata": {
    "colab": {
      "provenance": [],
      "gpuType": "T4",
      "authorship_tag": "ABX9TyMYGRiA9MeC4s5POVKqiOoK",
      "include_colab_link": true
    },
    "kernelspec": {
      "name": "python3",
      "display_name": "Python 3"
    },
    "language_info": {
      "name": "python"
    },
    "accelerator": "GPU"
  },
  "cells": [
    {
      "cell_type": "markdown",
      "metadata": {
        "id": "view-in-github",
        "colab_type": "text"
      },
      "source": [
        "<a href=\"https://colab.research.google.com/github/ezou6/Day_of_AI/blob/main/Resource.ipynb\" target=\"_parent\"><img src=\"https://colab.research.google.com/assets/colab-badge.svg\" alt=\"Open In Colab\"/></a>"
      ]
    },
    {
      "cell_type": "markdown",
      "source": [
        "#Welcome to Google Colab!\n",
        "\n",
        "We will be using Python throughout this course with Jupyter notebook (aka ipython notebook), which is an open-source IDE that runs right in your browser and is hosted by Google. So no, you don't have to download any other apps! How easy is that?\n",
        "\n",
        "###Let's familiarize you with Google Colab first.\n",
        "\n",
        "You may have heard of other IDEs for python such as PyCharm (which you'll use if you take AP CSP), Spyder, Eclipse or Visual Studio and wondering why we'll use Jupyter Notebook instead. Well, data scientists love Juputer Notebook because of how easy it is to document code and visualize data. For example, we can easily create a text cell, such as the one you're currently reading.\n",
        "\n",
        "###Try it! Create a text cell that says \"Welcome to (your name)'s Colab Notebook!\"\n",
        "\n",
        "Another advantage of Jupyter Notebook is that it allows access to computing resources such as GPU (really handy with parallel computing) and specialized TPUS (from tensors but we won't get into that)!\n",
        "\n",
        "###Try switching your runtime to GPUs right now. The cells will run so much faster!"
      ],
      "metadata": {
        "id": "GQ7OK91G7uul"
      }
    },
    {
      "cell_type": "code",
      "source": [
        "#Hey guys! Welcome to your first code cell. Here, you can program in Python.\n",
        "\n",
        "#To comment out code, simply add a hastag before what you want to comment out.\n",
        "#A short-cut is Ctrl + /\n",
        "\n",
        "#Comments are helpful for documenting code aka informing your audience\n",
        "#of what is going on in your code and its intended purpose. Just good programming practice!\n",
        "\n",
        "#Let's start with the basics!"
      ],
      "metadata": {
        "id": "3JW9H4b27roY"
      },
      "execution_count": 8,
      "outputs": []
    },
    {
      "cell_type": "code",
      "source": [
        "#Ah yes, the classic 'hello world!'\n",
        "\n",
        "print(\"hello world!\")\n",
        "\n",
        "#Value assignment\n",
        "x = 10\n",
        "print(\"The value of x is\", x)\n",
        "\n",
        "#Different types: int, str, bool\n",
        "#Typecasting\n",
        "type(x)\n",
        "X = str(x)\n",
        "print(\"The value of x is \" + X)#concatentation\n",
        "\n",
        "#User inputs\n",
        "num1 = int(input(\"Enter the first number: \"))\n",
        "num2 = int(input(\"Enter the second number: \"))\n",
        "result = num1 + num2\n",
        "print(\"The sum of\", num1, \"and\", num2, \"is\", result)"
      ],
      "metadata": {
        "colab": {
          "base_uri": "https://localhost:8080/"
        },
        "id": "Ys-aS6-S-cUB",
        "outputId": "ac2d40cb-eb1f-4724-d130-cafa8aaa06ce"
      },
      "execution_count": 16,
      "outputs": [
        {
          "output_type": "stream",
          "name": "stdout",
          "text": [
            "hello world!\n",
            "The value of x is 10\n",
            "The value of x is 10\n",
            "Enter the first number: 7\n",
            "Enter the second number: 3\n",
            "The sum of 7 and 3 is 10\n"
          ]
        }
      ]
    },
    {
      "cell_type": "code",
      "source": [
        "#Mutable Data Types\n",
        "\n"
      ],
      "metadata": {
        "id": "N8XP5IgL_z4y"
      },
      "execution_count": null,
      "outputs": []
    },
    {
      "cell_type": "code",
      "execution_count": 1,
      "metadata": {
        "id": "_W8xDSPu3C-8"
      },
      "outputs": [],
      "source": [
        "import numpy as np #matemathical operations w/ matrices\n",
        "import pandas as pd #dataframe creation, data handling and analysis\n",
        "import matplotlib.pyplot as plt #data-visualization and graphs\n"
      ]
    },
    {
      "cell_type": "code",
      "source": [
        "#Iris-dataset w/ Random Forest\n",
        "\n",
        "#Import dataset and sklearn model\n",
        "\n",
        "from sklearn.datasets import load_iris\n",
        "from sklearn import tree\n",
        "\n",
        "#load in dataset\n",
        "\n",
        "iris = load_iris()"
      ],
      "metadata": {
        "id": "8groTFiE5xB1"
      },
      "execution_count": 6,
      "outputs": []
    },
    {
      "cell_type": "code",
      "source": [
        "#Data visualization - sepal length and width (feature 1 and 2)\n",
        "\n",
        "#take the first two features (sepal length and width)\n",
        "X = iris.data[:, :2]\n",
        "#get all the target y values for each sample\n",
        "y = iris.target\n",
        "\n",
        "#get min and max values to plot axis - leave .5 of spare space on each end\n",
        "#Features\n",
        "x_min, x_max = X[:, 0].min() - 0.5, X[:, 0].max() + 0.5\n",
        "#Labels (not the same thing as our y = iris.target, but corresponds to sepal width)\n",
        "y_min, y_max = X[:, 1].min() - 0.5, X[:, 1].max() + 0.5"
      ],
      "metadata": {
        "colab": {
          "base_uri": "https://localhost:8080/"
        },
        "id": "APDkOgrN6GG3",
        "outputId": "339ba54b-14ed-4799-bb50-995e5d20569e"
      },
      "execution_count": 7,
      "outputs": [
        {
          "output_type": "stream",
          "name": "stdout",
          "text": [
            "[0 0 0 0 0 0 0 0 0 0 0 0 0 0 0 0 0 0 0 0 0 0 0 0 0 0 0 0 0 0 0 0 0 0 0 0 0\n",
            " 0 0 0 0 0 0 0 0 0 0 0 0 0 1 1 1 1 1 1 1 1 1 1 1 1 1 1 1 1 1 1 1 1 1 1 1 1\n",
            " 1 1 1 1 1 1 1 1 1 1 1 1 1 1 1 1 1 1 1 1 1 1 1 1 1 1 2 2 2 2 2 2 2 2 2 2 2\n",
            " 2 2 2 2 2 2 2 2 2 2 2 2 2 2 2 2 2 2 2 2 2 2 2 2 2 2 2 2 2 2 2 2 2 2 2 2 2\n",
            " 2 2]\n"
          ]
        }
      ]
    }
  ]
}